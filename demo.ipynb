{
 "cells": [
  {
   "cell_type": "code",
   "execution_count": 30,
   "metadata": {},
   "outputs": [
    {
     "name": "stdout",
     "output_type": "stream",
     "text": [
      "1,2288,120947\n",
      "2,2288,120947\n",
      "3,2288,120947\n",
      "4,4707,88653\n",
      "5,2288,132841\n",
      "6,4707,88653\n",
      "1,2288,120947\n",
      "2,2288,120947\n",
      "3,2288,120947\n",
      "4,4707,88653\n",
      "5,2288,132841\n",
      "6,4707,88653\n"
     ]
    },
    {
     "data": {
      "text/plain": [
       "<apache_beam.runners.portability.fn_api_runner.fn_runner.RunnerResult at 0x7f4c96e1e9b0>"
      ]
     },
     "execution_count": 31,
     "metadata": {},
     "output_type": "execute_result"
    }
   ],
   "source": [
    "import apache_beam as beam\n",
    "import google\n",
    "from apache_beam.options.pipeline_options import PipelineOptions\n",
    "import sqlalchemy as sqlalchemy\n",
    "from google.cloud.sql.connector import Connector\n",
    "import logging\n",
    "from apache_beam.runners.interactive.interactive_runner import InteractiveRunner\n",
    "from apache_beam.io import ReadFromCsv,WriteToText\n",
    "from apache_beam.io import WriteToCsv,WriteToText\n",
    "\n",
    "\n",
    "\n",
    "# Enable logging\n",
    "logging.basicConfig(level=logging.INFO)\n",
    "\n",
    "class WriteToSQL(beam.DoFn):\n",
    "    def setup(self):\n",
    "        # function to return database connection\n",
    "        def get_conn():\n",
    "            connector = Connector()\n",
    "            conn = connector.connect(\n",
    "                \"lithe-catbird-434312-p9:us-central1:assaydemo\",  # Update with correct connection name\n",
    "                \"mysql\",\n",
    "                user=\"dan\",\n",
    "                password=\"Arapkdan@12\",\n",
    "                db=\"assay_demo\"\n",
    "            )\n",
    "            return conn\n",
    "        \n",
    "        # create connection pool\n",
    "        self.pool = sqlalchemy.create_engine(\n",
    "            \"mysql+pymysql://\",  # Corrected driver\n",
    "            creator=get_conn\n",
    "        )\n",
    "    \n",
    "    def process(self, element):\n",
    "        \"\"\"Process each element and write to Cloud SQL\"\"\"\n",
    "        # Assuming the element is a CSV line, we can parse it\n",
    "        employee_id, company_id, department_id, person_id, employment_type, employment_status, designation_id = element.split(\",\")  # Adjust as per your actual schema\n",
    "        \n",
    "        # Insert data into the database\n",
    "        with self.pool.connect() as connection:\n",
    "            connection.execute(\n",
    "                \"INSERT INTO employees (employee_id, company_id, department_id, person_id, employment_type, employment_status, designation_id) \"\n",
    "                VALUES (%s, %s, %s, %s, %s, %s, %s)\",\n",
    "                (employee_id, company_id, department_id, person_id, employment_type, employment_status, designation_id)\n",
    "            )\n",
    "            logging.info(f\"Inserted record {employee_id}\")\n",
    "\n",
    "        # Yield a success message or return an empty list\n",
    "        #yield f\"Inserted record {employee_id}\"  # Yielding a message for tracking\n",
    "    def teardown(self):\n",
    "        # Close the connection pool\n",
    "        self.pool.dispose()\n",
    "\n",
    "\n",
    "# Define the pipeline options\n",
    "options = PipelineOptions()\n",
    "                            \n",
    "\n",
    "with beam.Pipeline() as p :\n",
    "    # read the csv file \n",
    "    read_csv =  p | 'Read' >> beam.io.ReadFromText('gs://assay_demo1/bsc_appraisals.csv')| 'Print'  >> beam.Map(print)\n",
    "\n",
    "\n",
    "    \n",
    "p.run()"
   ]
  },
  {
   "cell_type": "code",
   "execution_count": null,
   "metadata": {},
   "outputs": [],
   "source": []
  }
 ],
 "metadata": {
  "kernelspec": {
   "display_name": "kim_venv",
   "language": "python",
   "name": "python3"
  },
  "language_info": {
   "codemirror_mode": {
    "name": "ipython",
    "version": 3
   },
   "file_extension": ".py",
   "mimetype": "text/x-python",
   "name": "python",
   "nbconvert_exporter": "python",
   "pygments_lexer": "ipython3",
   "version": "3.10.12"
  }
 },
 "nbformat": 4,
 "nbformat_minor": 2
}
